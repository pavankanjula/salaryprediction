{
 "cells": [
  {
   "cell_type": "markdown",
   "metadata": {},
   "source": [
    "# Salary Predictions Based on Job Descriptions"
   ]
  },
  {
   "cell_type": "markdown",
   "metadata": {},
   "source": [
    "This script is to examine a set of job postings with salaries and then predict salaries for a new set of job postings.\n",
    "we are given 3 datasets.\n",
    "1. train_features.csv: Each row represents metadata for an individual job posting.\n",
    "2. train_salaries.csv: Each row associates a “jobId” with a “salary”.\n",
    "3. test_features.csv: Similar to train_features.csv, each row represents metadata for an individual job posting.\n",
    "\n",
    "we will first examine the data and then merge train_features and train_salaries datasets based on the unique feature\n",
    "\"jobId\". Then we will perform the data preprocessing techniques and Exploratory data analysis to establish a baseline of our prediction model."
   ]
  },
  {
   "cell_type": "code",
   "execution_count": 1,
   "metadata": {},
   "outputs": [],
   "source": [
    "#import your libraries\n",
    "import pandas as pd\n",
    "import numpy as np\n",
    "import colorama\n",
    "from colorama import Fore, Back, Style\n",
    "import matplotlib.pyplot as plt\n",
    "import seaborn as sns\n",
    "import sklearn as sk\n",
    "import warnings\n",
    "warnings.filterwarnings('ignore')\n",
    "#etc\n",
    "\n",
    "#your info here\n",
    "__author__ = \"pavankumar reddy\"\n",
    "__email__ = \"pavankumarkanjula2@gmail.com\""
   ]
  },
  {
   "cell_type": "markdown",
   "metadata": {},
   "source": [
    "### Loading the data into pandas dataframes"
   ]
  },
  {
   "cell_type": "code",
   "execution_count": 2,
   "metadata": {},
   "outputs": [],
   "source": [
    "train_feature_df = pd.read_csv('data/train_features.csv')\n",
    "train_target_df = pd.read_csv('data/train_salaries.csv')\n",
    "test_feature_df = pd.read_csv('data/test_features.csv')"
   ]
  },
  {
   "cell_type": "markdown",
   "metadata": {},
   "source": [
    "### Examine the data"
   ]
  },
  {
   "cell_type": "code",
   "execution_count": 3,
   "metadata": {},
   "outputs": [],
   "source": [
    "def explain_str(explaination):\n",
    "    \"\"\" A function to return colored string to seperate different information about a dataset\n",
    "\n",
    "    Keyword Argumets:\n",
    "    explaination -- a string eexplaining about the output\n",
    "\n",
    "    Returns:\n",
    "    a string with green color and stars on both sides\n",
    "    \"\"\"\n",
    "    return Fore.GREEN + \"************************ {0} ***********************\".format(explaination) + Style.RESET_ALL \n",
    "\n",
    "def examine_df(data_frame):\n",
    "    \"\"\" Shows basic information about the dataset\n",
    "\n",
    "    Keyword Arguments:\n",
    "    dset -- a dataframe which we are using in the project\n",
    "\n",
    "    Returns -- prints the basic information about the dataset.\n",
    "    \"\"\"\n",
    "    print(explain_str('dataframe shape'))\n",
    "    print(data_frame.shape)\n",
    "    print(explain_str('dataframe columns'))\n",
    "    print(data_frame.columns)\n",
    "    print(explain_str('dataframe head'))\n",
    "    print(data_frame.head())\n",
    "    print(explain_str('dataframe info'))\n",
    "    print(data_frame.info())\n",
    "        "
   ]
  },
  {
   "cell_type": "code",
   "execution_count": 42,
   "metadata": {},
   "outputs": [
    {
     "name": "stdout",
     "output_type": "stream",
     "text": [
      "\u001b[32m************************ dataframe shape ***********************\u001b[0m\n",
      "(1000000, 8)\n",
      "\u001b[32m************************ dataframe columns ***********************\u001b[0m\n",
      "Index(['jobId', 'companyId', 'jobType', 'degree', 'major', 'industry',\n",
      "       'yearsExperience', 'milesFromMetropolis'],\n",
      "      dtype='object')\n",
      "\u001b[32m************************ dataframe head ***********************\u001b[0m\n",
      "              jobId companyId         jobType       degree      major  \\\n",
      "0  JOB1362684407687    COMP37             CFO      MASTERS       MATH   \n",
      "1  JOB1362684407688    COMP19             CEO  HIGH_SCHOOL       NONE   \n",
      "2  JOB1362684407689    COMP52  VICE_PRESIDENT     DOCTORAL    PHYSICS   \n",
      "3  JOB1362684407690    COMP38         MANAGER     DOCTORAL  CHEMISTRY   \n",
      "4  JOB1362684407691     COMP7  VICE_PRESIDENT    BACHELORS    PHYSICS   \n",
      "\n",
      "  industry  yearsExperience  milesFromMetropolis  \n",
      "0   HEALTH               10                   83  \n",
      "1      WEB                3                   73  \n",
      "2   HEALTH               10                   38  \n",
      "3     AUTO                8                   17  \n",
      "4  FINANCE                8                   16  \n",
      "\u001b[32m************************ dataframe info ***********************\u001b[0m\n",
      "<class 'pandas.core.frame.DataFrame'>\n",
      "RangeIndex: 1000000 entries, 0 to 999999\n",
      "Data columns (total 8 columns):\n",
      "jobId                  1000000 non-null object\n",
      "companyId              1000000 non-null object\n",
      "jobType                1000000 non-null object\n",
      "degree                 1000000 non-null object\n",
      "major                  1000000 non-null object\n",
      "industry               1000000 non-null object\n",
      "yearsExperience        1000000 non-null int64\n",
      "milesFromMetropolis    1000000 non-null int64\n",
      "dtypes: int64(2), object(6)\n",
      "memory usage: 61.0+ MB\n",
      "None\n"
     ]
    }
   ],
   "source": [
    "examine_df(train_feature_df)"
   ]
  },
  {
   "cell_type": "code",
   "execution_count": 39,
   "metadata": {},
   "outputs": [
    {
     "name": "stdout",
     "output_type": "stream",
     "text": [
      "(1000000, 2)\n",
      "Index(['jobId', 'salary'], dtype='object')\n",
      "\u001b[32m************************ dataframe head ***********************\u001b[0m\n",
      "              jobId  salary\n",
      "0  JOB1362684407687     130\n",
      "1  JOB1362684407688     101\n",
      "2  JOB1362684407689     137\n",
      "3  JOB1362684407690     142\n",
      "4  JOB1362684407691     163\n",
      "\u001b[32m************************ dataframe info ***********************\u001b[0m\n",
      "<class 'pandas.core.frame.DataFrame'>\n",
      "RangeIndex: 1000000 entries, 0 to 999999\n",
      "Data columns (total 2 columns):\n",
      "jobId     1000000 non-null object\n",
      "salary    1000000 non-null int64\n",
      "dtypes: int64(1), object(1)\n",
      "memory usage: 15.3+ MB\n",
      "None\n"
     ]
    }
   ],
   "source": [
    "examine_df(train_target_df)"
   ]
  },
  {
   "cell_type": "code",
   "execution_count": 43,
   "metadata": {},
   "outputs": [
    {
     "name": "stdout",
     "output_type": "stream",
     "text": [
      "\u001b[32m************************ dataframe shape ***********************\u001b[0m\n",
      "(1000000, 8)\n",
      "\u001b[32m************************ dataframe columns ***********************\u001b[0m\n",
      "Index(['jobId', 'companyId', 'jobType', 'degree', 'major', 'industry',\n",
      "       'yearsExperience', 'milesFromMetropolis'],\n",
      "      dtype='object')\n",
      "\u001b[32m************************ dataframe head ***********************\u001b[0m\n",
      "              jobId companyId  jobType       degree    major industry  \\\n",
      "0  JOB1362685407687    COMP33  MANAGER  HIGH_SCHOOL     NONE   HEALTH   \n",
      "1  JOB1362685407688    COMP13   JUNIOR         NONE     NONE     AUTO   \n",
      "2  JOB1362685407689    COMP10      CTO      MASTERS  BIOLOGY   HEALTH   \n",
      "3  JOB1362685407690    COMP21  MANAGER  HIGH_SCHOOL     NONE      OIL   \n",
      "4  JOB1362685407691    COMP36   JUNIOR     DOCTORAL  BIOLOGY      OIL   \n",
      "\n",
      "   yearsExperience  milesFromMetropolis  \n",
      "0               22                   73  \n",
      "1               20                   47  \n",
      "2               17                    9  \n",
      "3               14                   96  \n",
      "4               10                   44  \n",
      "\u001b[32m************************ dataframe info ***********************\u001b[0m\n",
      "<class 'pandas.core.frame.DataFrame'>\n",
      "RangeIndex: 1000000 entries, 0 to 999999\n",
      "Data columns (total 8 columns):\n",
      "jobId                  1000000 non-null object\n",
      "companyId              1000000 non-null object\n",
      "jobType                1000000 non-null object\n",
      "degree                 1000000 non-null object\n",
      "major                  1000000 non-null object\n",
      "industry               1000000 non-null object\n",
      "yearsExperience        1000000 non-null int64\n",
      "milesFromMetropolis    1000000 non-null int64\n",
      "dtypes: int64(2), object(6)\n",
      "memory usage: 61.0+ MB\n",
      "None\n"
     ]
    }
   ],
   "source": [
    "examine_df(test_feature_df)"
   ]
  },
  {
   "cell_type": "code",
   "execution_count": 49,
   "metadata": {},
   "outputs": [
    {
     "name": "stdout",
     "output_type": "stream",
     "text": [
      "Numerical features -- Index(['yearsExperience', 'milesFromMetropolis'], dtype='object')\n",
      "Categorical features -- ['jobId', 'companyId', 'jobType', 'degree', 'major', 'industry']\n"
     ]
    }
   ],
   "source": [
    "numeric_cols = train_feature_df._get_numeric_data().columns\n",
    "categorical_cols = [x for x in train_feature_df.columns if x not in numeric_cols]\n",
    "print(\"Numerical features -- {0}\".format(numeric_cols))\n",
    " \n",
    "print(\"Categorical features -- {0}\".format(categorical_cols))"
   ]
  },
  {
   "cell_type": "markdown",
   "metadata": {},
   "source": [
    "### Cleaning the data "
   ]
  },
  {
   "cell_type": "code",
   "execution_count": 2,
   "metadata": {},
   "outputs": [],
   "source": [
    "#look for duplicate data, invalid data (e.g. salaries <=0), or corrupt data and remove it "
   ]
  },
  {
   "cell_type": "code",
   "execution_count": 60,
   "metadata": {},
   "outputs": [
    {
     "data": {
      "text/plain": [
       "jobId                  0\n",
       "companyId              0\n",
       "jobType                0\n",
       "degree                 0\n",
       "major                  0\n",
       "industry               0\n",
       "yearsExperience        0\n",
       "milesFromMetropolis    0\n",
       "dtype: int64"
      ]
     },
     "execution_count": 60,
     "metadata": {},
     "output_type": "execute_result"
    }
   ],
   "source": [
    "def check_missing(df):\n",
    "    \"\"\"This function checks for missing data in a given dataframe.\n",
    "    \n",
    "    Keyword Arguments:\n",
    "    df -- dataframe in which we want to check for missing values.\n",
    "    \n",
    "    Returns:\n",
    "    returns the count of missing values in each column of the dataframe.\n",
    "    \"\"\"\n",
    "    return df.isnull().sum()\n",
    "\n",
    "check_missing(train_feature_df)"
   ]
  },
  {
   "cell_type": "code",
   "execution_count": 61,
   "metadata": {},
   "outputs": [
    {
     "data": {
      "text/plain": [
       "jobId                  0\n",
       "companyId              0\n",
       "jobType                0\n",
       "degree                 0\n",
       "major                  0\n",
       "industry               0\n",
       "yearsExperience        0\n",
       "milesFromMetropolis    0\n",
       "dtype: int64"
      ]
     },
     "execution_count": 61,
     "metadata": {},
     "output_type": "execute_result"
    }
   ],
   "source": [
    "check_missing(test_feature_df)"
   ]
  },
  {
   "cell_type": "code",
   "execution_count": 62,
   "metadata": {},
   "outputs": [
    {
     "data": {
      "text/plain": [
       "jobId     0\n",
       "salary    0\n",
       "dtype: int64"
      ]
     },
     "execution_count": 62,
     "metadata": {},
     "output_type": "execute_result"
    }
   ],
   "source": [
    "check_missing(train_target_df)"
   ]
  },
  {
   "cell_type": "markdown",
   "metadata": {},
   "source": [
    "#### There are no any missing values in the given datasets."
   ]
  },
  {
   "cell_type": "code",
   "execution_count": 71,
   "metadata": {},
   "outputs": [
    {
     "data": {
      "text/plain": [
       "False"
      ]
     },
     "execution_count": 71,
     "metadata": {},
     "output_type": "execute_result"
    }
   ],
   "source": [
    "#Checking for duplicate records if any exists.\n",
    "\n",
    "any(train_feature_df.duplicated())"
   ]
  },
  {
   "cell_type": "code",
   "execution_count": 72,
   "metadata": {},
   "outputs": [
    {
     "data": {
      "text/plain": [
       "False"
      ]
     },
     "execution_count": 72,
     "metadata": {},
     "output_type": "execute_result"
    }
   ],
   "source": [
    "any(train_target_df.duplicated())"
   ]
  },
  {
   "cell_type": "code",
   "execution_count": 73,
   "metadata": {},
   "outputs": [
    {
     "data": {
      "text/plain": [
       "False"
      ]
     },
     "execution_count": 73,
     "metadata": {},
     "output_type": "execute_result"
    }
   ],
   "source": [
    "any(test_feature_df.duplicated())"
   ]
  },
  {
   "cell_type": "markdown",
   "metadata": {},
   "source": [
    "#### There are no any duplicate records in the data. "
   ]
  },
  {
   "cell_type": "markdown",
   "metadata": {},
   "source": [
    "### Merging features and targets into single dataframe"
   ]
  },
  {
   "cell_type": "code",
   "execution_count": 7,
   "metadata": {},
   "outputs": [],
   "source": [
    "train_df = pd.merge(train_feature_df, train_target_df, on='jobId')"
   ]
  },
  {
   "cell_type": "code",
   "execution_count": 8,
   "metadata": {},
   "outputs": [
    {
     "name": "stdout",
     "output_type": "stream",
     "text": [
      "\u001b[32m************************ dataframe shape ***********************\u001b[0m\n",
      "(1000000, 9)\n",
      "\u001b[32m************************ dataframe columns ***********************\u001b[0m\n",
      "Index(['jobId', 'companyId', 'jobType', 'degree', 'major', 'industry',\n",
      "       'yearsExperience', 'milesFromMetropolis', 'salary'],\n",
      "      dtype='object')\n",
      "\u001b[32m************************ dataframe head ***********************\u001b[0m\n",
      "              jobId companyId         jobType       degree      major  \\\n",
      "0  JOB1362684407687    COMP37             CFO      MASTERS       MATH   \n",
      "1  JOB1362684407688    COMP19             CEO  HIGH_SCHOOL       NONE   \n",
      "2  JOB1362684407689    COMP52  VICE_PRESIDENT     DOCTORAL    PHYSICS   \n",
      "3  JOB1362684407690    COMP38         MANAGER     DOCTORAL  CHEMISTRY   \n",
      "4  JOB1362684407691     COMP7  VICE_PRESIDENT    BACHELORS    PHYSICS   \n",
      "\n",
      "  industry  yearsExperience  milesFromMetropolis  salary  \n",
      "0   HEALTH               10                   83     130  \n",
      "1      WEB                3                   73     101  \n",
      "2   HEALTH               10                   38     137  \n",
      "3     AUTO                8                   17     142  \n",
      "4  FINANCE                8                   16     163  \n",
      "\u001b[32m************************ dataframe info ***********************\u001b[0m\n",
      "<class 'pandas.core.frame.DataFrame'>\n",
      "Int64Index: 1000000 entries, 0 to 999999\n",
      "Data columns (total 9 columns):\n",
      "jobId                  1000000 non-null object\n",
      "companyId              1000000 non-null object\n",
      "jobType                1000000 non-null object\n",
      "degree                 1000000 non-null object\n",
      "major                  1000000 non-null object\n",
      "industry               1000000 non-null object\n",
      "yearsExperience        1000000 non-null int64\n",
      "milesFromMetropolis    1000000 non-null int64\n",
      "salary                 1000000 non-null int64\n",
      "dtypes: int64(3), object(6)\n",
      "memory usage: 76.3+ MB\n",
      "None\n"
     ]
    }
   ],
   "source": [
    "examine_df(train_df)"
   ]
  },
  {
   "cell_type": "markdown",
   "metadata": {},
   "source": [
    "### Detecting potential outliers if present."
   ]
  },
  {
   "cell_type": "code",
   "execution_count": 96,
   "metadata": {},
   "outputs": [],
   "source": [
    "# Detecting if any outliers are present in the data using IQR method.\n",
    "def outliers_iqr(feature):\n",
    "    print(feature.describe())\n",
    "    quartile_1, quartile_3 = np.percentile(feature, [25, 75])\n",
    "    iqr = quartile_3 - quartile_1\n",
    "    lower_bound = quartile_1 - (iqr * 1.5)\n",
    "    upper_bound = quartile_3 + (iqr * 1.5)\n",
    "    print('The upper and lower bounds for suspected outliers are {} and {}.'.format(upper_bound, lower_bound))\n",
    "    return np.where((feature > upper_bound) | (feature < lower_bound))"
   ]
  },
  {
   "cell_type": "code",
   "execution_count": 97,
   "metadata": {},
   "outputs": [
    {
     "name": "stdout",
     "output_type": "stream",
     "text": [
      "count    1000000.000000\n",
      "mean          11.992386\n",
      "std            7.212391\n",
      "min            0.000000\n",
      "25%            6.000000\n",
      "50%           12.000000\n",
      "75%           18.000000\n",
      "max           24.000000\n",
      "Name: yearsExperience, dtype: float64\n",
      "The upper and lower bounds for suspected outliers are 36.0 and -12.0.\n",
      "(array([], dtype=int64),)\n"
     ]
    }
   ],
   "source": [
    "print(outliers_iqr(train_df['yearsExperience']))"
   ]
  },
  {
   "cell_type": "code",
   "execution_count": 98,
   "metadata": {},
   "outputs": [
    {
     "name": "stdout",
     "output_type": "stream",
     "text": [
      "count    1000000.000000\n",
      "mean          49.529260\n",
      "std           28.877733\n",
      "min            0.000000\n",
      "25%           25.000000\n",
      "50%           50.000000\n",
      "75%           75.000000\n",
      "max           99.000000\n",
      "Name: milesFromMetropolis, dtype: float64\n",
      "The upper and lower bounds for suspected outliers are 150.0 and -50.0.\n",
      "(array([], dtype=int64),)\n"
     ]
    }
   ],
   "source": [
    "print(outliers_iqr(train_df['milesFromMetropolis']))"
   ]
  },
  {
   "cell_type": "code",
   "execution_count": 99,
   "metadata": {},
   "outputs": [
    {
     "name": "stdout",
     "output_type": "stream",
     "text": [
      "count    1000000.000000\n",
      "mean         116.061818\n",
      "std           38.717936\n",
      "min            0.000000\n",
      "25%           88.000000\n",
      "50%          114.000000\n",
      "75%          141.000000\n",
      "max          301.000000\n",
      "Name: salary, dtype: float64\n",
      "The upper and lower bounds for suspected outliers are 220.5 and 8.5.\n",
      "(array([   266,    362,    560, ..., 999280, 999670, 999893]),)\n"
     ]
    }
   ],
   "source": [
    "print(outliers_iqr(train_df['salary']))"
   ]
  },
  {
   "cell_type": "code",
   "execution_count": 100,
   "metadata": {},
   "outputs": [
    {
     "data": {
      "text/html": [
       "<div>\n",
       "<style scoped>\n",
       "    .dataframe tbody tr th:only-of-type {\n",
       "        vertical-align: middle;\n",
       "    }\n",
       "\n",
       "    .dataframe tbody tr th {\n",
       "        vertical-align: top;\n",
       "    }\n",
       "\n",
       "    .dataframe thead th {\n",
       "        text-align: right;\n",
       "    }\n",
       "</style>\n",
       "<table border=\"1\" class=\"dataframe\">\n",
       "  <thead>\n",
       "    <tr style=\"text-align: right;\">\n",
       "      <th></th>\n",
       "      <th>jobId</th>\n",
       "      <th>companyId</th>\n",
       "      <th>jobType</th>\n",
       "      <th>degree</th>\n",
       "      <th>major</th>\n",
       "      <th>industry</th>\n",
       "      <th>yearsExperience</th>\n",
       "      <th>milesFromMetropolis</th>\n",
       "      <th>salary</th>\n",
       "    </tr>\n",
       "  </thead>\n",
       "  <tbody>\n",
       "    <tr>\n",
       "      <th>30559</th>\n",
       "      <td>JOB1362684438246</td>\n",
       "      <td>COMP44</td>\n",
       "      <td>JUNIOR</td>\n",
       "      <td>DOCTORAL</td>\n",
       "      <td>MATH</td>\n",
       "      <td>AUTO</td>\n",
       "      <td>11</td>\n",
       "      <td>7</td>\n",
       "      <td>0</td>\n",
       "    </tr>\n",
       "    <tr>\n",
       "      <th>495984</th>\n",
       "      <td>JOB1362684903671</td>\n",
       "      <td>COMP34</td>\n",
       "      <td>JUNIOR</td>\n",
       "      <td>NONE</td>\n",
       "      <td>NONE</td>\n",
       "      <td>OIL</td>\n",
       "      <td>1</td>\n",
       "      <td>25</td>\n",
       "      <td>0</td>\n",
       "    </tr>\n",
       "    <tr>\n",
       "      <th>652076</th>\n",
       "      <td>JOB1362685059763</td>\n",
       "      <td>COMP25</td>\n",
       "      <td>CTO</td>\n",
       "      <td>HIGH_SCHOOL</td>\n",
       "      <td>NONE</td>\n",
       "      <td>AUTO</td>\n",
       "      <td>6</td>\n",
       "      <td>60</td>\n",
       "      <td>0</td>\n",
       "    </tr>\n",
       "    <tr>\n",
       "      <th>816129</th>\n",
       "      <td>JOB1362685223816</td>\n",
       "      <td>COMP42</td>\n",
       "      <td>MANAGER</td>\n",
       "      <td>DOCTORAL</td>\n",
       "      <td>ENGINEERING</td>\n",
       "      <td>FINANCE</td>\n",
       "      <td>18</td>\n",
       "      <td>6</td>\n",
       "      <td>0</td>\n",
       "    </tr>\n",
       "    <tr>\n",
       "      <th>828156</th>\n",
       "      <td>JOB1362685235843</td>\n",
       "      <td>COMP40</td>\n",
       "      <td>VICE_PRESIDENT</td>\n",
       "      <td>MASTERS</td>\n",
       "      <td>ENGINEERING</td>\n",
       "      <td>WEB</td>\n",
       "      <td>3</td>\n",
       "      <td>29</td>\n",
       "      <td>0</td>\n",
       "    </tr>\n",
       "  </tbody>\n",
       "</table>\n",
       "</div>"
      ],
      "text/plain": [
       "                   jobId companyId         jobType       degree        major  \\\n",
       "30559   JOB1362684438246    COMP44          JUNIOR     DOCTORAL         MATH   \n",
       "495984  JOB1362684903671    COMP34          JUNIOR         NONE         NONE   \n",
       "652076  JOB1362685059763    COMP25             CTO  HIGH_SCHOOL         NONE   \n",
       "816129  JOB1362685223816    COMP42         MANAGER     DOCTORAL  ENGINEERING   \n",
       "828156  JOB1362685235843    COMP40  VICE_PRESIDENT      MASTERS  ENGINEERING   \n",
       "\n",
       "       industry  yearsExperience  milesFromMetropolis  salary  \n",
       "30559      AUTO               11                    7       0  \n",
       "495984      OIL                1                   25       0  \n",
       "652076     AUTO                6                   60       0  \n",
       "816129  FINANCE               18                    6       0  \n",
       "828156      WEB                3                   29       0  "
      ]
     },
     "execution_count": 100,
     "metadata": {},
     "output_type": "execute_result"
    }
   ],
   "source": [
    "# records for which salary is below the lower bound\n",
    "train_df[train_df.salary < 8.5]"
   ]
  },
  {
   "cell_type": "code",
   "execution_count": 101,
   "metadata": {},
   "outputs": [
    {
     "data": {
      "text/plain": [
       "CEO               2893\n",
       "CFO               1308\n",
       "CTO               1298\n",
       "VICE_PRESIDENT     520\n",
       "MANAGER            188\n",
       "SENIOR              50\n",
       "JUNIOR              16\n",
       "Name: jobType, dtype: int64"
      ]
     },
     "execution_count": 101,
     "metadata": {},
     "output_type": "execute_result"
    }
   ],
   "source": [
    "#records for which salary is above the upper bound\n",
    "train_df.loc[train_df.salary > 222.5, 'jobType'].value_counts()"
   ]
  },
  {
   "cell_type": "code",
   "execution_count": 103,
   "metadata": {},
   "outputs": [
    {
     "data": {
      "text/html": [
       "<div>\n",
       "<style scoped>\n",
       "    .dataframe tbody tr th:only-of-type {\n",
       "        vertical-align: middle;\n",
       "    }\n",
       "\n",
       "    .dataframe tbody tr th {\n",
       "        vertical-align: top;\n",
       "    }\n",
       "\n",
       "    .dataframe thead th {\n",
       "        text-align: right;\n",
       "    }\n",
       "</style>\n",
       "<table border=\"1\" class=\"dataframe\">\n",
       "  <thead>\n",
       "    <tr style=\"text-align: right;\">\n",
       "      <th></th>\n",
       "      <th>jobId</th>\n",
       "      <th>companyId</th>\n",
       "      <th>jobType</th>\n",
       "      <th>degree</th>\n",
       "      <th>major</th>\n",
       "      <th>industry</th>\n",
       "      <th>yearsExperience</th>\n",
       "      <th>milesFromMetropolis</th>\n",
       "      <th>salary</th>\n",
       "    </tr>\n",
       "  </thead>\n",
       "  <tbody>\n",
       "    <tr>\n",
       "      <th>1222</th>\n",
       "      <td>JOB1362684408909</td>\n",
       "      <td>COMP40</td>\n",
       "      <td>JUNIOR</td>\n",
       "      <td>MASTERS</td>\n",
       "      <td>COMPSCI</td>\n",
       "      <td>OIL</td>\n",
       "      <td>24</td>\n",
       "      <td>5</td>\n",
       "      <td>225</td>\n",
       "    </tr>\n",
       "    <tr>\n",
       "      <th>27710</th>\n",
       "      <td>JOB1362684435397</td>\n",
       "      <td>COMP21</td>\n",
       "      <td>JUNIOR</td>\n",
       "      <td>DOCTORAL</td>\n",
       "      <td>ENGINEERING</td>\n",
       "      <td>OIL</td>\n",
       "      <td>24</td>\n",
       "      <td>3</td>\n",
       "      <td>246</td>\n",
       "    </tr>\n",
       "    <tr>\n",
       "      <th>31355</th>\n",
       "      <td>JOB1362684439042</td>\n",
       "      <td>COMP45</td>\n",
       "      <td>JUNIOR</td>\n",
       "      <td>DOCTORAL</td>\n",
       "      <td>COMPSCI</td>\n",
       "      <td>FINANCE</td>\n",
       "      <td>24</td>\n",
       "      <td>0</td>\n",
       "      <td>225</td>\n",
       "    </tr>\n",
       "    <tr>\n",
       "      <th>100042</th>\n",
       "      <td>JOB1362684507729</td>\n",
       "      <td>COMP17</td>\n",
       "      <td>JUNIOR</td>\n",
       "      <td>DOCTORAL</td>\n",
       "      <td>BUSINESS</td>\n",
       "      <td>FINANCE</td>\n",
       "      <td>23</td>\n",
       "      <td>8</td>\n",
       "      <td>248</td>\n",
       "    </tr>\n",
       "    <tr>\n",
       "      <th>160333</th>\n",
       "      <td>JOB1362684568020</td>\n",
       "      <td>COMP18</td>\n",
       "      <td>JUNIOR</td>\n",
       "      <td>DOCTORAL</td>\n",
       "      <td>BUSINESS</td>\n",
       "      <td>FINANCE</td>\n",
       "      <td>22</td>\n",
       "      <td>3</td>\n",
       "      <td>223</td>\n",
       "    </tr>\n",
       "    <tr>\n",
       "      <th>303778</th>\n",
       "      <td>JOB1362684711465</td>\n",
       "      <td>COMP51</td>\n",
       "      <td>JUNIOR</td>\n",
       "      <td>MASTERS</td>\n",
       "      <td>ENGINEERING</td>\n",
       "      <td>WEB</td>\n",
       "      <td>24</td>\n",
       "      <td>2</td>\n",
       "      <td>226</td>\n",
       "    </tr>\n",
       "    <tr>\n",
       "      <th>348354</th>\n",
       "      <td>JOB1362684756041</td>\n",
       "      <td>COMP56</td>\n",
       "      <td>JUNIOR</td>\n",
       "      <td>DOCTORAL</td>\n",
       "      <td>ENGINEERING</td>\n",
       "      <td>OIL</td>\n",
       "      <td>23</td>\n",
       "      <td>25</td>\n",
       "      <td>226</td>\n",
       "    </tr>\n",
       "    <tr>\n",
       "      <th>500739</th>\n",
       "      <td>JOB1362684908426</td>\n",
       "      <td>COMP40</td>\n",
       "      <td>JUNIOR</td>\n",
       "      <td>DOCTORAL</td>\n",
       "      <td>ENGINEERING</td>\n",
       "      <td>OIL</td>\n",
       "      <td>21</td>\n",
       "      <td>0</td>\n",
       "      <td>227</td>\n",
       "    </tr>\n",
       "    <tr>\n",
       "      <th>627534</th>\n",
       "      <td>JOB1362685035221</td>\n",
       "      <td>COMP5</td>\n",
       "      <td>JUNIOR</td>\n",
       "      <td>DOCTORAL</td>\n",
       "      <td>ENGINEERING</td>\n",
       "      <td>OIL</td>\n",
       "      <td>24</td>\n",
       "      <td>29</td>\n",
       "      <td>230</td>\n",
       "    </tr>\n",
       "    <tr>\n",
       "      <th>645555</th>\n",
       "      <td>JOB1362685053242</td>\n",
       "      <td>COMP36</td>\n",
       "      <td>JUNIOR</td>\n",
       "      <td>DOCTORAL</td>\n",
       "      <td>BUSINESS</td>\n",
       "      <td>FINANCE</td>\n",
       "      <td>24</td>\n",
       "      <td>1</td>\n",
       "      <td>225</td>\n",
       "    </tr>\n",
       "    <tr>\n",
       "      <th>685775</th>\n",
       "      <td>JOB1362685093462</td>\n",
       "      <td>COMP38</td>\n",
       "      <td>JUNIOR</td>\n",
       "      <td>BACHELORS</td>\n",
       "      <td>ENGINEERING</td>\n",
       "      <td>OIL</td>\n",
       "      <td>24</td>\n",
       "      <td>13</td>\n",
       "      <td>225</td>\n",
       "    </tr>\n",
       "    <tr>\n",
       "      <th>743326</th>\n",
       "      <td>JOB1362685151013</td>\n",
       "      <td>COMP14</td>\n",
       "      <td>JUNIOR</td>\n",
       "      <td>DOCTORAL</td>\n",
       "      <td>BUSINESS</td>\n",
       "      <td>FINANCE</td>\n",
       "      <td>19</td>\n",
       "      <td>0</td>\n",
       "      <td>236</td>\n",
       "    </tr>\n",
       "    <tr>\n",
       "      <th>787674</th>\n",
       "      <td>JOB1362685195361</td>\n",
       "      <td>COMP43</td>\n",
       "      <td>JUNIOR</td>\n",
       "      <td>DOCTORAL</td>\n",
       "      <td>BUSINESS</td>\n",
       "      <td>FINANCE</td>\n",
       "      <td>18</td>\n",
       "      <td>15</td>\n",
       "      <td>232</td>\n",
       "    </tr>\n",
       "    <tr>\n",
       "      <th>796956</th>\n",
       "      <td>JOB1362685204643</td>\n",
       "      <td>COMP30</td>\n",
       "      <td>JUNIOR</td>\n",
       "      <td>MASTERS</td>\n",
       "      <td>BUSINESS</td>\n",
       "      <td>OIL</td>\n",
       "      <td>24</td>\n",
       "      <td>2</td>\n",
       "      <td>228</td>\n",
       "    </tr>\n",
       "    <tr>\n",
       "      <th>855219</th>\n",
       "      <td>JOB1362685262906</td>\n",
       "      <td>COMP13</td>\n",
       "      <td>JUNIOR</td>\n",
       "      <td>MASTERS</td>\n",
       "      <td>ENGINEERING</td>\n",
       "      <td>OIL</td>\n",
       "      <td>22</td>\n",
       "      <td>26</td>\n",
       "      <td>225</td>\n",
       "    </tr>\n",
       "    <tr>\n",
       "      <th>954368</th>\n",
       "      <td>JOB1362685362055</td>\n",
       "      <td>COMP11</td>\n",
       "      <td>JUNIOR</td>\n",
       "      <td>DOCTORAL</td>\n",
       "      <td>BUSINESS</td>\n",
       "      <td>OIL</td>\n",
       "      <td>24</td>\n",
       "      <td>26</td>\n",
       "      <td>223</td>\n",
       "    </tr>\n",
       "  </tbody>\n",
       "</table>\n",
       "</div>"
      ],
      "text/plain": [
       "                   jobId companyId jobType     degree        major industry  \\\n",
       "1222    JOB1362684408909    COMP40  JUNIOR    MASTERS      COMPSCI      OIL   \n",
       "27710   JOB1362684435397    COMP21  JUNIOR   DOCTORAL  ENGINEERING      OIL   \n",
       "31355   JOB1362684439042    COMP45  JUNIOR   DOCTORAL      COMPSCI  FINANCE   \n",
       "100042  JOB1362684507729    COMP17  JUNIOR   DOCTORAL     BUSINESS  FINANCE   \n",
       "160333  JOB1362684568020    COMP18  JUNIOR   DOCTORAL     BUSINESS  FINANCE   \n",
       "303778  JOB1362684711465    COMP51  JUNIOR    MASTERS  ENGINEERING      WEB   \n",
       "348354  JOB1362684756041    COMP56  JUNIOR   DOCTORAL  ENGINEERING      OIL   \n",
       "500739  JOB1362684908426    COMP40  JUNIOR   DOCTORAL  ENGINEERING      OIL   \n",
       "627534  JOB1362685035221     COMP5  JUNIOR   DOCTORAL  ENGINEERING      OIL   \n",
       "645555  JOB1362685053242    COMP36  JUNIOR   DOCTORAL     BUSINESS  FINANCE   \n",
       "685775  JOB1362685093462    COMP38  JUNIOR  BACHELORS  ENGINEERING      OIL   \n",
       "743326  JOB1362685151013    COMP14  JUNIOR   DOCTORAL     BUSINESS  FINANCE   \n",
       "787674  JOB1362685195361    COMP43  JUNIOR   DOCTORAL     BUSINESS  FINANCE   \n",
       "796956  JOB1362685204643    COMP30  JUNIOR    MASTERS     BUSINESS      OIL   \n",
       "855219  JOB1362685262906    COMP13  JUNIOR    MASTERS  ENGINEERING      OIL   \n",
       "954368  JOB1362685362055    COMP11  JUNIOR   DOCTORAL     BUSINESS      OIL   \n",
       "\n",
       "        yearsExperience  milesFromMetropolis  salary  \n",
       "1222                 24                    5     225  \n",
       "27710                24                    3     246  \n",
       "31355                24                    0     225  \n",
       "100042               23                    8     248  \n",
       "160333               22                    3     223  \n",
       "303778               24                    2     226  \n",
       "348354               23                   25     226  \n",
       "500739               21                    0     227  \n",
       "627534               24                   29     230  \n",
       "645555               24                    1     225  \n",
       "685775               24                   13     225  \n",
       "743326               19                    0     236  \n",
       "787674               18                   15     232  \n",
       "796956               24                    2     228  \n",
       "855219               22                   26     225  \n",
       "954368               24                   26     223  "
      ]
     },
     "execution_count": 103,
     "metadata": {},
     "output_type": "execute_result"
    }
   ],
   "source": [
    "train_df[(train_df.salary > 222.5) & (train_df.jobType == 'JUNIOR')]"
   ]
  },
  {
   "cell_type": "markdown",
   "metadata": {},
   "source": [
    "If we check at the outliers below lower bound, salary is zero for all of the jobs. But the job type doesn't seems to be a voluntary job either for any of them. Hence, we can consider them as missing data and will remove them.\n",
    "\n",
    "Now comes to the outliers above upper bound, Although most of the high salaries are for C-level executives and senior managerial roles, few of the Junior roles are also getting paid high salaries. If we check at the industry what they work in, we can agree this as OIL and FINANCE industries are known for high paying jobs. So we will not remove any of these rows."
   ]
  },
  {
   "cell_type": "code",
   "execution_count": 171,
   "metadata": {},
   "outputs": [],
   "source": [
    "train_df = train_df[train_df['salary'] > 0]"
   ]
  },
  {
   "cell_type": "markdown",
   "metadata": {},
   "source": [
    "### ---- 4 Explore the data (EDA) ----"
   ]
  },
  {
   "cell_type": "code",
   "execution_count": 3,
   "metadata": {},
   "outputs": [],
   "source": [
    "#summarize each feature variable\n",
    "#summarize the target variable\n",
    "#look for correlation between each feature and the target\n",
    "#look for correlation between features"
   ]
  },
  {
   "cell_type": "markdown",
   "metadata": {},
   "source": [
    "#### Frequency counts for catogerical variables"
   ]
  },
  {
   "cell_type": "code",
   "execution_count": 172,
   "metadata": {},
   "outputs": [],
   "source": [
    "def freq_counts(df):\n",
    "    \"\"\" A function to print frequency counts for all the categorical features in a dataframe\n",
    "    \n",
    "    Keyword Arguments : \n",
    "    df -- dataframe for which we want to get frequency counts of catogerical variables\n",
    "    \n",
    "    \"\"\"\n",
    "    numeric_cols = df._get_numeric_data().columns\n",
    "    categorical_cols = [x for x in df.columns if x not in numeric_cols]\n",
    "    for feature in categorical_cols:\n",
    "        print(explain_str(\"Frequency counts for {0}\".format(feature)))\n",
    "        print(df[feature].value_counts(dropna=False))"
   ]
  },
  {
   "cell_type": "code",
   "execution_count": 120,
   "metadata": {},
   "outputs": [
    {
     "name": "stdout",
     "output_type": "stream",
     "text": [
      "\u001b[32m************************ Frequency counts for jobId ***********************\u001b[0m\n",
      "JOB1362685213196    1\n",
      "JOB1362684831665    1\n",
      "JOB1362684510379    1\n",
      "JOB1362684475679    1\n",
      "JOB1362685097169    1\n",
      "JOB1362684834669    1\n",
      "JOB1362685214927    1\n",
      "JOB1362684868854    1\n",
      "JOB1362684686012    1\n",
      "JOB1362684793401    1\n",
      "JOB1362684474513    1\n",
      "JOB1362684574902    1\n",
      "JOB1362684493912    1\n",
      "JOB1362685215829    1\n",
      "JOB1362684574122    1\n",
      "JOB1362685341435    1\n",
      "JOB1362685059604    1\n",
      "JOB1362685138694    1\n",
      "JOB1362684444333    1\n",
      "JOB1362684605362    1\n",
      "JOB1362684795213    1\n",
      "JOB1362685319507    1\n",
      "JOB1362684854281    1\n",
      "JOB1362684604272    1\n",
      "JOB1362685406410    1\n",
      "JOB1362684480370    1\n",
      "JOB1362685265366    1\n",
      "JOB1362685226430    1\n",
      "JOB1362684540398    1\n",
      "JOB1362685379753    1\n",
      "                   ..\n",
      "JOB1362684560330    1\n",
      "JOB1362684755618    1\n",
      "JOB1362684434250    1\n",
      "JOB1362685055296    1\n",
      "JOB1362685071727    1\n",
      "JOB1362685392464    1\n",
      "JOB1362684698120    1\n",
      "JOB1362684770216    1\n",
      "JOB1362685165915    1\n",
      "JOB1362684585322    1\n",
      "JOB1362684954836    1\n",
      "JOB1362685142283    1\n",
      "JOB1362684881968    1\n",
      "JOB1362685179474    1\n",
      "JOB1362684903170    1\n",
      "JOB1362685400797    1\n",
      "JOB1362685013540    1\n",
      "JOB1362685192705    1\n",
      "JOB1362684959210    1\n",
      "JOB1362685292571    1\n",
      "JOB1362685060962    1\n",
      "JOB1362684646694    1\n",
      "JOB1362685208362    1\n",
      "JOB1362685212193    1\n",
      "JOB1362685316820    1\n",
      "JOB1362684719046    1\n",
      "JOB1362685340001    1\n",
      "JOB1362685259392    1\n",
      "JOB1362684602643    1\n",
      "JOB1362685175113    1\n",
      "Name: jobId, Length: 1000000, dtype: int64\n",
      "\u001b[32m************************ Frequency counts for companyId ***********************\u001b[0m\n",
      "COMP39    16193\n",
      "COMP35    16114\n",
      "COMP59    16066\n",
      "COMP30    16041\n",
      "COMP3     16028\n",
      "COMP40    16008\n",
      "COMP44    16005\n",
      "COMP51    16005\n",
      "COMP9     15988\n",
      "COMP56    15979\n",
      "COMP54    15977\n",
      "COMP46    15967\n",
      "COMP58    15961\n",
      "COMP19    15958\n",
      "COMP32    15958\n",
      "COMP18    15957\n",
      "COMP13    15956\n",
      "COMP43    15955\n",
      "COMP21    15949\n",
      "COMP42    15944\n",
      "COMP62    15943\n",
      "COMP25    15932\n",
      "COMP48    15930\n",
      "COMP23    15918\n",
      "COMP4     15918\n",
      "COMP20    15910\n",
      "COMP10    15909\n",
      "COMP14    15908\n",
      "COMP22    15907\n",
      "COMP37    15905\n",
      "          ...  \n",
      "COMP41    15859\n",
      "COMP45    15850\n",
      "COMP6     15837\n",
      "COMP24    15831\n",
      "COMP61    15822\n",
      "COMP1     15820\n",
      "COMP38    15819\n",
      "COMP34    15810\n",
      "COMP33    15801\n",
      "COMP60    15799\n",
      "COMP5     15798\n",
      "COMP47    15796\n",
      "COMP28    15794\n",
      "COMP50    15791\n",
      "COMP12    15783\n",
      "COMP16    15783\n",
      "COMP49    15779\n",
      "COMP53    15776\n",
      "COMP27    15773\n",
      "COMP55    15767\n",
      "COMP7     15767\n",
      "COMP31    15756\n",
      "COMP29    15754\n",
      "COMP26    15750\n",
      "COMP52    15737\n",
      "COMP17    15715\n",
      "COMP0     15666\n",
      "COMP2     15641\n",
      "COMP8     15638\n",
      "COMP57    15635\n",
      "Name: companyId, Length: 63, dtype: int64\n",
      "\u001b[32m************************ Frequency counts for jobType ***********************\u001b[0m\n",
      "SENIOR            125886\n",
      "VICE_PRESIDENT    125235\n",
      "MANAGER           125121\n",
      "CTO               125046\n",
      "JANITOR           124971\n",
      "CEO               124778\n",
      "JUNIOR            124594\n",
      "CFO               124369\n",
      "Name: jobType, dtype: int64\n",
      "\u001b[32m************************ Frequency counts for degree ***********************\u001b[0m\n",
      "HIGH_SCHOOL    236976\n",
      "NONE           236854\n",
      "BACHELORS      175495\n",
      "DOCTORAL       175364\n",
      "MASTERS        175311\n",
      "Name: degree, dtype: int64\n",
      "\u001b[32m************************ Frequency counts for major ***********************\u001b[0m\n",
      "NONE           532355\n",
      "CHEMISTRY       58875\n",
      "LITERATURE      58684\n",
      "ENGINEERING     58596\n",
      "BUSINESS        58518\n",
      "PHYSICS         58410\n",
      "COMPSCI         58382\n",
      "BIOLOGY         58379\n",
      "MATH            57801\n",
      "Name: major, dtype: int64\n",
      "\u001b[32m************************ Frequency counts for industry ***********************\u001b[0m\n",
      "WEB          143206\n",
      "AUTO         142943\n",
      "FINANCE      142867\n",
      "EDUCATION    142819\n",
      "OIL          142771\n",
      "HEALTH       142755\n",
      "SERVICE      142639\n",
      "Name: industry, dtype: int64\n"
     ]
    }
   ],
   "source": [
    "freq_counts(train_df)"
   ]
  },
  {
   "cell_type": "code",
   "execution_count": 173,
   "metadata": {},
   "outputs": [],
   "source": [
    "def df_features_summary(df):\n",
    "    \"\"\"This function prints out the summary statistics of numerical and categorical features seperately.\n",
    "    \n",
    "    Keyword Arguments\n",
    "    df -- Dataframe for which we need to print the summary statistics.\n",
    "    \n",
    "    \"\"\"\n",
    "    numeric_cols = df._get_numeric_data().columns\n",
    "    categorical_cols = [x for x in df.columns if x not in numeric_cols]\n",
    "    print(explain_str(\"summary statistics of numerical features\"))\n",
    "    print(df[numeric_cols].describe())\n",
    "    print(explain_str(\"summary statistics of categorical features\"))\n",
    "    print(df[categorical_cols].describe())\n",
    "    "
   ]
  },
  {
   "cell_type": "code",
   "execution_count": 174,
   "metadata": {},
   "outputs": [
    {
     "name": "stdout",
     "output_type": "stream",
     "text": [
      "\u001b[32m************************ summary statistics of numerical features ***********************\u001b[0m\n",
      "       yearsExperience  milesFromMetropolis         salary\n",
      "count    999995.000000        999995.000000  999995.000000\n",
      "mean         11.992407            49.529381     116.062398\n",
      "std           7.212390            28.877721      38.717163\n",
      "min           0.000000             0.000000      17.000000\n",
      "25%           6.000000            25.000000      88.000000\n",
      "50%          12.000000            50.000000     114.000000\n",
      "75%          18.000000            75.000000     141.000000\n",
      "max          24.000000            99.000000     301.000000\n",
      "\u001b[32m************************ summary statistics of categorical features ***********************\u001b[0m\n",
      "                   jobId companyId jobType       degree   major industry\n",
      "count             999995    999995  999995       999995  999995   999995\n",
      "unique            999995        63       8            5       9        7\n",
      "top     JOB1362685213196    COMP39  SENIOR  HIGH_SCHOOL    NONE      WEB\n",
      "freq                   1     16193  125886       236975  532353   143205\n"
     ]
    }
   ],
   "source": [
    "df_features_summary(train_df)"
   ]
  },
  {
   "cell_type": "markdown",
   "metadata": {},
   "source": [
    "### Visualizing the levels of categorical features"
   ]
  },
  {
   "cell_type": "code",
   "execution_count": 175,
   "metadata": {},
   "outputs": [
    {
     "data": {
      "text/plain": [
       "Text(0.5,1,'industry')"
      ]
     },
     "execution_count": 175,
     "metadata": {},
     "output_type": "execute_result"
    },
    {
     "data": {
      "image/png": "[encoded data removed]",
      "text/plain": [
       "<Figure size 1152x720 with 4 Axes>"
      ]
     },
     "metadata": {},
     "output_type": "display_data"
    }
   ],
   "source": [
    "fig, axarr = plt.subplots(2, 2, figsize=(16, 10))\n",
    "fig.subplots_adjust(hspace = 1)\n",
    "train_df['jobType'].value_counts().sort_index().plot.bar(ax=axarr[0][0])\n",
    "axarr[0][0].set_title(\"jobType\", fontsize=18)\n",
    "train_df['degree'].value_counts().sort_index().plot.bar(ax=axarr[0][1])\n",
    "axarr[0][1].set_title(\"degree\", fontsize=18)\n",
    "train_df['major'].value_counts().sort_index().plot.bar(ax=axarr[1][0])\n",
    "axarr[1][0].set_title(\"major\", fontsize=18)\n",
    "train_df['industry'].value_counts().sort_index().plot.bar(ax=axarr[1][1])\n",
    "axarr[1][1].set_title(\"industry\", fontsize=18)"
   ]
  },
  {
   "cell_type": "markdown",
   "metadata": {},
   "source": [
    "### Visualizing the target variable('salary')"
   ]
  },
  {
   "cell_type": "code",
   "execution_count": 10,
   "metadata": {},
   "outputs": [
    {
     "data": {
      "text/plain": [
       "<matplotlib.axes._subplots.AxesSubplot at 0x1a101043c8>"
      ]
     },
     "execution_count": 10,
     "metadata": {},
     "output_type": "execute_result"
    },
    {
     "data": {
      "image/png": "[encoded data removed]",
      "text/plain": [
       "<Figure size 1080x576 with 2 Axes>"
      ]
     },
     "metadata": {},
     "output_type": "display_data"
    }
   ],
   "source": [
    "f, (ax_box, ax_hist) = plt.subplots(2, sharex=True, figsize = (15,8), gridspec_kw={\"height_ratios\": (.2, .8)})\n",
    "sns.boxplot(train_df[\"salary\"], ax=ax_box)\n",
    "sns.distplot(train_df[\"salary\"], ax=ax_hist)\n"
   ]
  },
  {
   "cell_type": "markdown",
   "metadata": {},
   "source": [
    "### Visualizing the relation between training features and target variable."
   ]
  },
  {
   "cell_type": "code",
   "execution_count": 9,
   "metadata": {},
   "outputs": [
    {
     "data": {
      "image/png": "[encoded data removed]",
      "text/plain": [
       "<Figure size 1008x432 with 2 Axes>"
      ]
     },
     "metadata": {},
     "output_type": "display_data"
    }
   ],
   "source": [
    "numeric_features = ['yearsExperience','milesFromMetropolis']\n",
    "plt.figure(figsize = (14, 6))\n",
    "for i in range(2):\n",
    "    plt.subplot(1,2,i+1)\n",
    "    mean = train_df.groupby(numeric_features[i])['salary'].mean()\n",
    "    mean.plot()\n",
    "    plt.ylabel('salaries')"
   ]
  },
  {
   "cell_type": "code",
   "execution_count": 167,
   "metadata": {},
   "outputs": [
    {
     "data": {
      "image/png": "[encoded data removed]",
      "text/plain": [
       "<Figure size 1296x1296 with 4 Axes>"
      ]
     },
     "metadata": {},
     "output_type": "display_data"
    }
   ],
   "source": [
    "categorical_features = ['jobType','degree','major','industry']\n",
    "plt.figure(figsize= (18,18))\n",
    "for i in range(len(categorical_features)):\n",
    "    plt.subplot(2,2,i+1)\n",
    "    mean = train_df.groupby(categorical_features[i])['salary'].mean()\n",
    "    train_df[categorical_features[i]] = train_df[categorical_features[i]].astype('category')\n",
    "    levels = mean.sort_values().index.tolist()\n",
    "    train_df[categorical_features[i]].cat.reorder_categories(levels, inplace=True)\n",
    "    sns.boxplot(x =categorical_features[i] , y = 'salary', data=train_df)\n",
    "    plt.xticks(rotation=45)\n",
    "plt.subplots_adjust(hspace = 0.5)\n"
   ]
  },
  {
   "cell_type": "markdown",
   "metadata": {},
   "source": [
    "Observations:\n",
    "* Considering the plot between milesFromMetrpolis and salaries, we can say the salary is negatively correlated with th distance from Metropolis.\n",
    "* Work experience is positively correlated with salary.\n",
    "* AS the job type changes from Janitor level to C-level executive positions, the salary is also increasing.\n",
    "* In general, more advanced degrees are paying high salaries.\n",
    "* People with Engineering or Business majors are getting high salaries than others.\n",
    "* Finance and Oil industries have high salary jobs."
   ]
  },
  {
   "cell_type": "markdown",
   "metadata": {},
   "source": [
    "### Visualization of correlation heatmap of the features"
   ]
  },
  {
   "cell_type": "code",
   "execution_count": 17,
   "metadata": {},
   "outputs": [],
   "source": [
    "def encode_label(df, col):\n",
    "    #encode the categories using mean salary for each category to replace label\n",
    "    cat_dict ={}\n",
    "    cats = df[col].cat.categories.tolist()\n",
    "    for cat in cats:\n",
    "        cat_dict[cat] = train_df[train_df[col] == cat]['salary'].mean()   \n",
    "    df[col] = df[col].map(cat_dict)"
   ]
  },
  {
   "cell_type": "code",
   "execution_count": 38,
   "metadata": {},
   "outputs": [],
   "source": [
    "for col in train_df.columns:\n",
    "    if train_df[col].dtype.name == \"object\":\n",
    "        train_df[col].dtype.name == \"category\"\n",
    "        encode_label(train_df, col)"
   ]
  },
  {
   "cell_type": "code",
   "execution_count": 73,
   "metadata": {},
   "outputs": [],
   "source": [
    "def heatMap(df, mirror):\n",
    "\n",
    "    # Create Correlation df\n",
    "    corr = df.corr()\n",
    "    # Plot figsize\n",
    "    fig, ax = plt.subplots(figsize=(12, 10))\n",
    "    # Generate Color Map\n",
    "    #colormap = sns.diverging_palette(240, 10, as_cmap=True)\n",
    "   \n",
    "    if mirror == True:\n",
    "       #Generate Heat Map, allow annotations and place floats in map\n",
    "       sns.heatmap(corr, cmap='Greens', annot=True)\n",
    "       #Apply xticks\n",
    "       plt.xticks(range(len(corr.columns)), corr.columns);\n",
    "       plt.xticks(rotation=45)\n",
    "       #Apply yticks\n",
    "       plt.yticks(range(len(corr.columns)), corr.columns)\n",
    "       #show plot\n",
    "\n",
    "    else:\n",
    "       # Drop self-correlations\n",
    "       dropSelf = np.zeros_like(corr)\n",
    "       dropSelf[np.triu_indices_from(dropSelf)] = True# Generate Color Map\n",
    "       #colormap = sns.diverging_palette(220, 10, as_cmap=True)\n",
    "       # Generate Heat Map, allow annotations and place floats in map\n",
    "       sns.heatmap(corr, cmap='YlOrBr', annot=True, mask=dropSelf)\n",
    "       # Apply xticks\n",
    "       plt.xticks(range(len(corr.columns)), corr.columns);\n",
    "       plt.xticks(rotation=45)\n",
    "       # Apply yticks\n",
    "       plt.yticks(range(len(corr.columns)), corr.columns)\n",
    "       \n",
    "    # show plot\n",
    "    plt.show()"
   ]
  },
  {
   "cell_type": "code",
   "execution_count": 74,
   "metadata": {},
   "outputs": [
    {
     "data": {
      "image/png": "[encoded data removed]",
      "text/plain": [
       "<Figure size 864x720 with 2 Axes>"
      ]
     },
     "metadata": {},
     "output_type": "display_data"
    }
   ],
   "source": [
    "heatMap(train_df, mirror = True)"
   ]
  },
  {
   "cell_type": "markdown",
   "metadata": {},
   "source": [
    "* CompanyId has the least correlation with any of the features.\n",
    "* jobType is strongly correlated with salary follwed by the degree and major.\n",
    "* Major and degree have highest correlation out of all the features."
   ]
  },
  {
   "cell_type": "markdown",
   "metadata": {},
   "source": [
    "### ---- 5 Establish a baseline ----"
   ]
  },
  {
   "cell_type": "code",
   "execution_count": 5,
   "metadata": {},
   "outputs": [],
   "source": [
    "#select a reasonable metric (MSE in this case)\n",
    "#create an extremely simple model and measure its efficacy\n",
    "#e.g. use \"average salary\" for each industry as your model and then measure MSE\n",
    "#during 5-fold cross-validation"
   ]
  },
  {
   "cell_type": "markdown",
   "metadata": {},
   "source": [
    "### ---- 6 Hypothesize solution ----"
   ]
  },
  {
   "cell_type": "code",
   "execution_count": null,
   "metadata": {},
   "outputs": [],
   "source": [
    "#brainstorm 3 models that you think may improve results over the baseline model based\n",
    "#on your "
   ]
  },
  {
   "cell_type": "markdown",
   "metadata": {},
   "source": [
    "Brainstorm 3 models that you think may improve results over the baseline model based on your EDA and explain why they're reasonable solutions here.\n",
    "\n",
    "Also write down any new features that you think you should try adding to the model based on your EDA, e.g. interaction variables, summary statistics for each group, etc"
   ]
  },
  {
   "cell_type": "markdown",
   "metadata": {},
   "source": [
    "## Part 3 - DEVELOP"
   ]
  },
  {
   "cell_type": "markdown",
   "metadata": {},
   "source": [
    "You will cycle through creating features, tuning models, and training/validing models (steps 7-9) until you've reached your efficacy goal\n",
    "\n",
    "#### Your metric will be MSE and your goal is:\n",
    " - <360 for entry-level data science roles\n",
    " - <320 for senior data science roles"
   ]
  },
  {
   "cell_type": "markdown",
   "metadata": {},
   "source": [
    "### ---- 7 Engineer features  ----"
   ]
  },
  {
   "cell_type": "code",
   "execution_count": null,
   "metadata": {},
   "outputs": [],
   "source": [
    "#make sure that data is ready for modeling\n",
    "#create any new features needed to potentially enhance model"
   ]
  },
  {
   "cell_type": "markdown",
   "metadata": {},
   "source": [
    "### ---- 8 Create models ----"
   ]
  },
  {
   "cell_type": "code",
   "execution_count": 15,
   "metadata": {},
   "outputs": [],
   "source": [
    "#create and tune the models that you brainstormed during part 2"
   ]
  },
  {
   "cell_type": "markdown",
   "metadata": {},
   "source": [
    "### ---- 9 Test models ----"
   ]
  },
  {
   "cell_type": "code",
   "execution_count": 1,
   "metadata": {},
   "outputs": [],
   "source": [
    "#do 5-fold cross validation on models and measure MSE"
   ]
  },
  {
   "cell_type": "markdown",
   "metadata": {},
   "source": [
    "### ---- 10 Select best model  ----"
   ]
  },
  {
   "cell_type": "code",
   "execution_count": null,
   "metadata": {},
   "outputs": [],
   "source": [
    "#select the model with the lowest error as your \"prodcuction\" model"
   ]
  },
  {
   "cell_type": "markdown",
   "metadata": {},
   "source": [
    "## Part 4 - DEPLOY"
   ]
  },
  {
   "cell_type": "markdown",
   "metadata": {},
   "source": [
    "### ---- 11 Automate pipeline ----"
   ]
  },
  {
   "cell_type": "code",
   "execution_count": null,
   "metadata": {},
   "outputs": [],
   "source": [
    "#write script that trains model on entire training set, saves model to disk,\n",
    "#and scores the \"test\" dataset"
   ]
  },
  {
   "cell_type": "markdown",
   "metadata": {},
   "source": [
    "### ---- 12 Deploy solution ----"
   ]
  },
  {
   "cell_type": "code",
   "execution_count": 16,
   "metadata": {},
   "outputs": [],
   "source": [
    "#save your prediction to a csv file or optionally save them as a table in a SQL database\n",
    "#additionally, you want to save a visualization and summary of your prediction and feature importances\n",
    "#these visualizations and summaries will be extremely useful to business stakeholders"
   ]
  },
  {
   "cell_type": "markdown",
   "metadata": {},
   "source": [
    "### ---- 13 Measure efficacy ----"
   ]
  },
  {
   "cell_type": "markdown",
   "metadata": {},
   "source": [
    "We'll skip this step since we don't have the outcomes for the test data"
   ]
  },
  {
   "cell_type": "code",
   "execution_count": null,
   "metadata": {},
   "outputs": [],
   "source": []
  },
  {
   "cell_type": "code",
   "execution_count": null,
   "metadata": {},
   "outputs": [],
   "source": []
  },
  {
   "cell_type": "code",
   "execution_count": null,
   "metadata": {},
   "outputs": [],
   "source": []
  },
  {
   "cell_type": "code",
   "execution_count": null,
   "metadata": {},
   "outputs": [],
   "source": []
  }
 ],
 "metadata": {
  "kernelspec": {
   "display_name": "Python 3",
   "language": "python",
   "name": "python3"
  },
  "language_info": {
   "codemirror_mode": {
    "name": "ipython",
    "version": 3
   },
   "file_extension": ".py",
   "mimetype": "text/x-python",
   "name": "python",
   "nbconvert_exporter": "python",
   "pygments_lexer": "ipython3",
   "version": "3.6.5"
  }
 },
 "nbformat": 4,
 "nbformat_minor": 2
}
